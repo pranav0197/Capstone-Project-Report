{
    "cells": [
        {
            "cell_type": "markdown",
            "metadata": {
                "collapsed": true
            },
            "source": "# Coffee Places and Trending Venues near Eiffel Tower"
        },
        {
            "cell_type": "markdown",
            "metadata": {},
            "source": "## Introduction"
        },
        {
            "cell_type": "markdown",
            "metadata": {},
            "source": "In this Final project I will try to use the concepts and codes that I have practiced during the course and will give this project a touristic touch, particularly of Paris, France. Let\u2019s say we are in Paris near Eiffel Tower. After a long day we want to have a cup of coffee with our friends and want to go to a place near us. So I will be exploring the cafes and trending venues for you guys. I chose this topic because I, myself is fond of trying new cafes and Paris has some of the cafes with good ambience and delicious coffees and shakes."
        },
        {
            "cell_type": "markdown",
            "metadata": {},
            "source": "## Target Audience"
        },
        {
            "cell_type": "markdown",
            "metadata": {},
            "source": "The target audience for this report is particularly the people who love exploring new cafes and visiting new places ( trending venues) as I am going to search for cafes and trending places nearby. This data is for any traveller without any age, gender, or any other restriction."
        },
        {
            "cell_type": "markdown",
            "metadata": {},
            "source": "## Problem"
        },
        {
            "cell_type": "markdown",
            "metadata": {},
            "source": "1. Look for a coffee place near Eiffel Tower\n2. Explore one of the suggested coffee shops.\n3. Now, that we have had our coffee and instead of simply exploring the area around the Coffee shop, we will search for the trending venues nearby, that is the venues with the highest foot traffic. So let's see what are the trending places and do not forget to visit those places next time you visit Paris."
        },
        {
            "cell_type": "markdown",
            "metadata": {},
            "source": "## Data Section"
        },
        {
            "cell_type": "markdown",
            "metadata": {},
            "source": "I will use the FourSquare API to collect data about locations of coffee places in Paris near Eiffel Tower and to look for trending venues nearby. Also, I will use the visualization library, Folium, geocoder, Json, etc. to visualize the results. Paris is the city of love and a must visit place for every traveller. I hope my data will include some of th best coffee shops near it."
        },
        {
            "cell_type": "code",
            "execution_count": null,
            "metadata": {},
            "outputs": [],
            "source": ""
        }
    ],
    "metadata": {
        "kernelspec": {
            "display_name": "Python 3.6",
            "language": "python",
            "name": "python3"
        },
        "language_info": {
            "codemirror_mode": {
                "name": "ipython",
                "version": 3
            },
            "file_extension": ".py",
            "mimetype": "text/x-python",
            "name": "python",
            "nbconvert_exporter": "python",
            "pygments_lexer": "ipython3",
            "version": "3.6.8"
        }
    },
    "nbformat": 4,
    "nbformat_minor": 1
}